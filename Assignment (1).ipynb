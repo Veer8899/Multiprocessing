{
 "cells": [
  {
   "cell_type": "markdown",
   "id": "6a6c95c3-562d-46ba-b9f1-d8400fbced7b",
   "metadata": {},
   "source": [
    "## Q1. What is multiprocessing in python? Why is it useful?"
   ]
  },
  {
   "cell_type": "markdown",
   "id": "84ec1f2f-1e93-4c12-abae-92c9972eedd2",
   "metadata": {},
   "source": [
    "#### Multiprocessing in Python is a built-in package that allows the system to run multiple processes simultaneously and perform concurrent and parallel execution of tasks. In simple word \n",
    "#### It is use full because it help us to achieve parrallelism, , improving performance, utilizing multiple CPU cores, and building efficient and responsive applications that can take advantage of modern hardware architectures."
   ]
  },
  {
   "cell_type": "code",
   "execution_count": 1,
   "id": "2fb401bd-341e-4760-a34b-48387f7286e4",
   "metadata": {},
   "outputs": [
    {
     "name": "stdout",
     "output_type": "stream",
     "text": [
      "this is my main prog\n",
      "this is my multiprocessing prog\n"
     ]
    }
   ],
   "source": [
    "import multiprocessing\n",
    "def test():\n",
    "    print(\"this is my multiprocessing prog\")\n",
    "\n",
    "if __name__ =='__main__': # using dunder method we call main program\n",
    "    m = multiprocessing.Process(target = test)\n",
    "    print(\"this is my main prog\")\n",
    "    m.start()\n",
    "    m.join()"
   ]
  },
  {
   "cell_type": "markdown",
   "id": "668909d0-e1cb-407e-9da6-9a033898c114",
   "metadata": {},
   "source": [
    "## Q2. What are the differences between multiprocessing and multithreading?\n"
   ]
  },
  {
   "cell_type": "markdown",
   "id": "79d44a8c-40aa-4fdc-831f-149b6ba31108",
   "metadata": {},
   "source": [
    "#### Multithreading--> It is a programming technique that assigns multiple threads to a single process and  run concurrently and parallel to each other. These threads share the same memory space within a parent process. This saves system memory, increases computing speed and improves application performance.\n"
   ]
  },
  {
   "cell_type": "code",
   "execution_count": 9,
   "id": "9e477f87-bff9-44b5-8b08-e4e39a716516",
   "metadata": {},
   "outputs": [],
   "source": [
    "import threading\n",
    "def test(id):\n",
    "    print(\"prog start %d \"% id)\n",
    "thread  = [threading.Thread(target = test, args = (i,) )for i in range(10)]\n"
   ]
  },
  {
   "cell_type": "code",
   "execution_count": 10,
   "id": "de17a56a-8455-48ef-a7ed-567ea2c0105c",
   "metadata": {},
   "outputs": [
    {
     "name": "stdout",
     "output_type": "stream",
     "text": [
      "prog start 0 \n",
      "prog start 1 \n",
      "prog start 2 \n",
      "prog start 3 \n",
      "prog start 4 \n",
      "prog start 5 \n",
      "prog start 6 \n",
      "prog start 7 \n",
      "prog start 8 \n",
      "prog start 9 \n"
     ]
    }
   ],
   "source": [
    "for t in thread:\n",
    "    t.start()"
   ]
  },
  {
   "cell_type": "code",
   "execution_count": 11,
   "id": "bd25616b-3bb0-4105-b33a-e22e73f10f28",
   "metadata": {},
   "outputs": [
    {
     "data": {
      "text/plain": [
       "[<Thread(Thread-8 (test), stopped 139831099250240)>,\n",
       " <Thread(Thread-9 (test), stopped 139831099250240)>,\n",
       " <Thread(Thread-10 (test), stopped 139831099250240)>,\n",
       " <Thread(Thread-11 (test), stopped 139831099250240)>,\n",
       " <Thread(Thread-12 (test), stopped 139831099250240)>,\n",
       " <Thread(Thread-13 (test), stopped 139831099250240)>,\n",
       " <Thread(Thread-14 (test), stopped 139831099250240)>,\n",
       " <Thread(Thread-15 (test), stopped 139831099250240)>,\n",
       " <Thread(Thread-16 (test), stopped 139831099250240)>,\n",
       " <Thread(Thread-17 (test), stopped 139831099250240)>]"
      ]
     },
     "execution_count": 11,
     "metadata": {},
     "output_type": "execute_result"
    }
   ],
   "source": [
    "thread"
   ]
  },
  {
   "cell_type": "markdown",
   "id": "cf86c52b-e779-4f1b-8817-4567b73177d3",
   "metadata": {},
   "source": [
    "#### Multiprocessing--> It refers to a system that has more than two central processing units (CPUs). Every additional CPU added to a system increases its speed, power and memory. This allows users to run multiple processes simultaneously. Each CPU may also function independently, and some CPUs may remain idle if they don't have anything to process. This can improve the reliability of a system because unused CPUs can act as a backup if technical issues arise."
   ]
  },
  {
   "cell_type": "code",
   "execution_count": 3,
   "id": "d4f08aa8-d2cf-4f73-9e47-398e6394fc01",
   "metadata": {},
   "outputs": [
    {
     "name": "stdout",
     "output_type": "stream",
     "text": [
      "[1, 4, 9, 16, 25, 36, 49, 64, 81]\n"
     ]
    }
   ],
   "source": [
    "import multiprocessing\n",
    "def square(n):\n",
    "    return n**2\n",
    "if __name__ == '__main__' :\n",
    "    with multiprocessing.Pool(processes = 4) as pool:\n",
    "        out = pool.map(square, [1,2,3,4,5,6,7,8,9])\n",
    "        print(out)"
   ]
  },
  {
   "cell_type": "markdown",
   "id": "d52d7ab1-455e-41d6-a076-583098e20ad7",
   "metadata": {},
   "source": [
    "## Q3. Write a python code to create a process using the multiprocessing module."
   ]
  },
  {
   "cell_type": "code",
   "execution_count": 12,
   "id": "ced43bec-76ad-40cf-9249-1ad2f0e481e2",
   "metadata": {},
   "outputs": [
    {
     "name": "stdout",
     "output_type": "stream",
     "text": [
      "this is my main prog\n",
      "this is my multiprocessing prog\n"
     ]
    }
   ],
   "source": [
    "import multiprocessing\n",
    "def test():\n",
    "    print(\"this is my multiprocessing prog\")\n",
    "\n",
    "if __name__ =='__main__': # using dunder method we call main program\n",
    "    m = multiprocessing.Process(target = test)\n",
    "    print(\"this is my main prog\")\n",
    "    m.start()\n",
    "    m.join()"
   ]
  },
  {
   "cell_type": "markdown",
   "id": "487d224b-4612-4a60-9e13-d1364febd090",
   "metadata": {},
   "source": [
    "## Q4. What is a multiprocessing pool in python? Why is it used?"
   ]
  },
  {
   "cell_type": "markdown",
   "id": "a6dc52ba-d5e5-4716-aa80-8c5258e84ba1",
   "metadata": {},
   "source": [
    "#### A multiprocessing pool in Python is like having a group of workers that can help you get tasks done faster. Imagine you have a big pile of tasks that need to be completed, and you have multiple workers available. Instead of doing all the tasks by yourself, you can give some tasks to each worker and let them work on those tasks at the same time.\n",
    "#### In simple word,it is used to helps you divide and conquer a bunch of tasks, allowing multiple workers to work on them simultaneously and speeding up the overall process. It makes it easier to manage and utilize multiple workers efficiently."
   ]
  },
  {
   "cell_type": "code",
   "execution_count": 14,
   "id": "75e64eb2-88f7-46cb-891f-da34b504c9bb",
   "metadata": {},
   "outputs": [
    {
     "name": "stdout",
     "output_type": "stream",
     "text": [
      "[1, 4, 9, 16, 25, 36, 49, 64, 81]\n"
     ]
    }
   ],
   "source": [
    "import multiprocessing\n",
    "def square(n):\n",
    "    return n**2\n",
    "if __name__ == '__main__' :\n",
    "    with multiprocessing.Pool(processes = 4) as pool:\n",
    "        out = pool.map(square, [1,2,3,4,5,6,7,8,9])\n",
    "        print(out)\n",
    "    "
   ]
  },
  {
   "cell_type": "markdown",
   "id": "ebaf290e-9dc1-4844-bfe1-c61f67e79cb6",
   "metadata": {},
   "source": [
    "## Q5. How can we create a pool of worker processes in python using the multiprocessing module?"
   ]
  },
  {
   "cell_type": "code",
   "execution_count": 15,
   "id": "a787671b-313e-45e5-ae43-b99c4942343d",
   "metadata": {},
   "outputs": [
    {
     "name": "stdout",
     "output_type": "stream",
     "text": [
      "[1, 4, 9, 16, 25, 36, 49, 64, 81]\n"
     ]
    }
   ],
   "source": [
    "import multiprocessing\n",
    "def square(n):\n",
    "    return n**2\n",
    "if __name__ == '__main__' :\n",
    "    with multiprocessing.Pool(processes = 4) as pool:\n",
    "        out = pool.map(square, [1,2,3,4,5,6,7,8,9])\n",
    "        print(out)"
   ]
  },
  {
   "cell_type": "markdown",
   "id": "92f53ddc-6d8d-47eb-8dc5-3d2e318f7a2b",
   "metadata": {},
   "source": [
    "## Q6. Write a python program to create 4 processes, each process should print a different number using the multiprocessing module in python."
   ]
  },
  {
   "cell_type": "code",
   "execution_count": 32,
   "id": "77c65831-199c-4e41-b8a6-55312f7a7daa",
   "metadata": {},
   "outputs": [
    {
     "name": "stdout",
     "output_type": "stream",
     "text": [
      "Process-83 12Process-84\n",
      " \n",
      "Process-85 3\n",
      "Process-86 4\n"
     ]
    }
   ],
   "source": [
    "\n",
    "import multiprocessing\n",
    "\n",
    "def print_number(number):\n",
    "    print(multiprocessing.current_process().name,number)\n",
    "\n",
    "if __name__ == \"__main__\":\n",
    "    processes = []\n",
    "    numbers = [1, 2, 3, 4]\n",
    "\n",
    "    for i in numbers:\n",
    "        process = multiprocessing.Process(target=print_number, args=(i,))\n",
    "        processes.append(process)\n",
    "        process.start()\n",
    "\n",
    "    for process in processes:\n",
    "        process.join()\n"
   ]
  },
  {
   "cell_type": "code",
   "execution_count": null,
   "id": "de9fac6f-36da-4fc8-aca3-c6116a8a0532",
   "metadata": {},
   "outputs": [],
   "source": []
  },
  {
   "cell_type": "code",
   "execution_count": null,
   "id": "cea1c1bc-f45b-4017-a7e3-d98cfc384c24",
   "metadata": {},
   "outputs": [],
   "source": []
  }
 ],
 "metadata": {
  "kernelspec": {
   "display_name": "Python 3 (ipykernel)",
   "language": "python",
   "name": "python3"
  },
  "language_info": {
   "codemirror_mode": {
    "name": "ipython",
    "version": 3
   },
   "file_extension": ".py",
   "mimetype": "text/x-python",
   "name": "python",
   "nbconvert_exporter": "python",
   "pygments_lexer": "ipython3",
   "version": "3.10.8"
  }
 },
 "nbformat": 4,
 "nbformat_minor": 5
}
